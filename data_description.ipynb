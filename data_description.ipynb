{
    "nbformat_minor": 1, 
    "cells": [
        {
            "source": "# Load data\nimport sys\nimport types\nimport pandas as pd\nfrom botocore.client import Config\nimport ibm_boto3\n\ndef __iter__(self): return 0\n\n# @hidden_cell\n# The following code accesses a file in your IBM Cloud Object Storage. It includes your credentials.\n# You might want to remove those credentials before you share your notebook.\nclient_d110e2fe011d44d489dffcc5194a59c5 = ibm_boto3.client(service_name='s3',\n    ibm_api_key_id='eb_teHef1zl2WqhjGL8xoD85lSXUh6_9VurXa8loCIlM',\n    ibm_auth_endpoint=\"https://iam.ng.bluemix.net/oidc/token\",\n    config=Config(signature_version='oauth'),\n    endpoint_url='https://s3-api.us-geo.objectstorage.service.networklayer.com')\n\nbody = client_d110e2fe011d44d489dffcc5194a59c5.get_object(Bucket='sepsisprediction-donotdelete-pr-wodmbegr9uodno',Key='target.csv')['Body']\n# add missing __iter__ method, so pandas accepts body as file-like object\nif not hasattr(body, \"__iter__\"): body.__iter__ = types.MethodType( __iter__, body )\n\ntarget = pd.read_csv(body)\ntarget.head()\n\n", 
            "cell_type": "code", 
            "metadata": {}, 
            "outputs": [
                {
                    "output_type": "execute_result", 
                    "data": {
                        "text/html": "<div>\n<style scoped>\n    .dataframe tbody tr th:only-of-type {\n        vertical-align: middle;\n    }\n\n    .dataframe tbody tr th {\n        vertical-align: top;\n    }\n\n    .dataframe thead th {\n        text-align: right;\n    }\n</style>\n<table border=\"1\" class=\"dataframe\">\n  <thead>\n    <tr style=\"text-align: right;\">\n      <th></th>\n      <th>\u4f4f\u9662\u6d41\u6c34\u53f7</th>\n      <th>\u65f6\u95f4\u6233</th>\n      <th>\u8bca\u65ad\u7ed3\u679c</th>\n    </tr>\n  </thead>\n  <tbody>\n    <tr>\n      <th>0</th>\n      <td>2016-0682617-0</td>\n      <td>4</td>\n      <td>1</td>\n    </tr>\n    <tr>\n      <th>1</th>\n      <td>2016-0682617-0</td>\n      <td>213</td>\n      <td>0</td>\n    </tr>\n    <tr>\n      <th>2</th>\n      <td>2016-0682718-0</td>\n      <td>8</td>\n      <td>0</td>\n    </tr>\n    <tr>\n      <th>3</th>\n      <td>2016-0682718-0</td>\n      <td>17</td>\n      <td>0</td>\n    </tr>\n    <tr>\n      <th>4</th>\n      <td>2016-0683221-0</td>\n      <td>3</td>\n      <td>0</td>\n    </tr>\n  </tbody>\n</table>\n</div>", 
                        "text/plain": "            \u4f4f\u9662\u6d41\u6c34\u53f7  \u65f6\u95f4\u6233  \u8bca\u65ad\u7ed3\u679c\n0  2016-0682617-0    4     1\n1  2016-0682617-0  213     0\n2  2016-0682718-0    8     0\n3  2016-0682718-0   17     0\n4  2016-0683221-0    3     0"
                    }, 
                    "execution_count": 1, 
                    "metadata": {}
                }
            ], 
            "execution_count": 1
        }, 
        {
            "source": "# number of patients in the dataset\nprint(target.shape[0])\nprint(len(target))\n", 
            "cell_type": "code", 
            "metadata": {}, 
            "outputs": [
                {
                    "output_type": "stream", 
                    "name": "stdout", 
                    "text": "2970\n2970\n"
                }
            ], 
            "execution_count": 2
        }, 
        {
            "source": "# number of septic patients\nprint(len(target[target[u'\u8bca\u65ad\u7ed3\u679c']==1]))\n\n# number of non-septic patients\nprint(len(target[target[u'\u8bca\u65ad\u7ed3\u679c']==0]))", 
            "cell_type": "code", 
            "metadata": {}, 
            "outputs": [
                {
                    "output_type": "stream", 
                    "name": "stdout", 
                    "text": "10\n2960\n"
                }
            ], 
            "execution_count": 7
        }
    ], 
    "metadata": {
        "kernelspec": {
            "display_name": "Python 3.5", 
            "name": "python3", 
            "language": "python"
        }, 
        "language_info": {
            "mimetype": "text/x-python", 
            "nbconvert_exporter": "python", 
            "version": "3.5.4", 
            "name": "python", 
            "pygments_lexer": "ipython3", 
            "file_extension": ".py", 
            "codemirror_mode": {
                "version": 3, 
                "name": "ipython"
            }
        }
    }, 
    "nbformat": 4
}