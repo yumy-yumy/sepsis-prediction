{
    "nbformat_minor": 1, 
    "cells": [
        {
            "source": "# Load data\nfrom project_lib import Project\nproject = Project(project_id=\"54710414-eeb2-42df-820a-698b93f50f84\", project_access_token=\"p-594d39b7f91d72f663da93ed52c36b329ac8c2c7\")\ncsv_file = project.get_file('data_with_1_hour_bin.csv')\n\nimport pandas as pd\ndata = pd.read_csv(csv_file)\ndata.head()\n", 
            "cell_type": "code", 
            "metadata": {}, 
            "outputs": [
                {
                    "output_type": "execute_result", 
                    "data": {
                        "text/plain": "             \u4f4f\u9662\u6d41\u6c34\u53f7  \u65f6\u95f4\u6233  C\u53cd\u5e94\u86cb\u767d  \u767d\u7ec6\u80de\u6570\u91cf  \u56fd\u9645\u6807\u51c6\u5316\u6bd4\u503c  \u8840\u6d46\u964d\u9499\u7d20\u539f  \u8840\u6d46\u603b\u80c6\u7ea2\u7d20    \u8840\u5c0f\u677f  \u8840\u6c28  \\\n0   2016-0798830-0    1    NaN   22.5      NaN     NaN     NaN  464.0 NaN   \n1  2016-08107700-0    1  14.00   18.6      NaN     NaN     NaN  636.0 NaN   \n2  2016-08109775-0    1   0.55   10.1      NaN     NaN     NaN  334.0 NaN   \n3  2016-10127091-0    1    NaN   11.1      NaN     NaN     NaN  423.0 NaN   \n4          7717785    1    NaN   11.2     1.26     NaN     NaN  238.0 NaN   \n\n   \u78b1\u6027\u78f7\u9178\u9176 ...       \u9499  \u808c\u9150  \u7ea4\u7ef4\u86cb\u767d\u539f        \u8840\u7ea2\u86cb\u767d  \u8840\u4e73\u9178   \u9541   \u78f7    \u94be     \u4e8c\u6c27\u5316\u78b3\u5206\u538b   \u8bca\u65ad  \n0    NaN ...   1.050 NaN    NaN  167.000000  0.8 NaN NaN  3.1  42.003454  0.0  \n1    NaN ...     NaN NaN    NaN  198.500000  NaN NaN NaN  NaN        NaN  0.0  \n2    NaN ...   1.100 NaN    NaN  187.333333  3.9 NaN NaN  4.4  47.000000  0.0  \n3    NaN ...     NaN NaN    NaN  225.500000  NaN NaN NaN  NaN        NaN  0.0  \n4    NaN ...   1.415 NaN   1.52  219.400000  2.6 NaN NaN  3.6  52.429311  0.0  \n\n[5 rows x 22 columns]", 
                        "text/html": "<div>\n<style scoped>\n    .dataframe tbody tr th:only-of-type {\n        vertical-align: middle;\n    }\n\n    .dataframe tbody tr th {\n        vertical-align: top;\n    }\n\n    .dataframe thead th {\n        text-align: right;\n    }\n</style>\n<table border=\"1\" class=\"dataframe\">\n  <thead>\n    <tr style=\"text-align: right;\">\n      <th></th>\n      <th>\u4f4f\u9662\u6d41\u6c34\u53f7</th>\n      <th>\u65f6\u95f4\u6233</th>\n      <th>C\u53cd\u5e94\u86cb\u767d</th>\n      <th>\u767d\u7ec6\u80de\u6570\u91cf</th>\n      <th>\u56fd\u9645\u6807\u51c6\u5316\u6bd4\u503c</th>\n      <th>\u8840\u6d46\u964d\u9499\u7d20\u539f</th>\n      <th>\u8840\u6d46\u603b\u80c6\u7ea2\u7d20</th>\n      <th>\u8840\u5c0f\u677f</th>\n      <th>\u8840\u6c28</th>\n      <th>\u78b1\u6027\u78f7\u9178\u9176</th>\n      <th>...</th>\n      <th>\u9499</th>\n      <th>\u808c\u9150</th>\n      <th>\u7ea4\u7ef4\u86cb\u767d\u539f</th>\n      <th>\u8840\u7ea2\u86cb\u767d</th>\n      <th>\u8840\u4e73\u9178</th>\n      <th>\u9541</th>\n      <th>\u78f7</th>\n      <th>\u94be</th>\n      <th>\u4e8c\u6c27\u5316\u78b3\u5206\u538b</th>\n      <th>\u8bca\u65ad</th>\n    </tr>\n  </thead>\n  <tbody>\n    <tr>\n      <th>0</th>\n      <td>2016-0798830-0</td>\n      <td>1</td>\n      <td>NaN</td>\n      <td>22.5</td>\n      <td>NaN</td>\n      <td>NaN</td>\n      <td>NaN</td>\n      <td>464.0</td>\n      <td>NaN</td>\n      <td>NaN</td>\n      <td>...</td>\n      <td>1.050</td>\n      <td>NaN</td>\n      <td>NaN</td>\n      <td>167.000000</td>\n      <td>0.8</td>\n      <td>NaN</td>\n      <td>NaN</td>\n      <td>3.1</td>\n      <td>42.003454</td>\n      <td>0.0</td>\n    </tr>\n    <tr>\n      <th>1</th>\n      <td>2016-08107700-0</td>\n      <td>1</td>\n      <td>14.00</td>\n      <td>18.6</td>\n      <td>NaN</td>\n      <td>NaN</td>\n      <td>NaN</td>\n      <td>636.0</td>\n      <td>NaN</td>\n      <td>NaN</td>\n      <td>...</td>\n      <td>NaN</td>\n      <td>NaN</td>\n      <td>NaN</td>\n      <td>198.500000</td>\n      <td>NaN</td>\n      <td>NaN</td>\n      <td>NaN</td>\n      <td>NaN</td>\n      <td>NaN</td>\n      <td>0.0</td>\n    </tr>\n    <tr>\n      <th>2</th>\n      <td>2016-08109775-0</td>\n      <td>1</td>\n      <td>0.55</td>\n      <td>10.1</td>\n      <td>NaN</td>\n      <td>NaN</td>\n      <td>NaN</td>\n      <td>334.0</td>\n      <td>NaN</td>\n      <td>NaN</td>\n      <td>...</td>\n      <td>1.100</td>\n      <td>NaN</td>\n      <td>NaN</td>\n      <td>187.333333</td>\n      <td>3.9</td>\n      <td>NaN</td>\n      <td>NaN</td>\n      <td>4.4</td>\n      <td>47.000000</td>\n      <td>0.0</td>\n    </tr>\n    <tr>\n      <th>3</th>\n      <td>2016-10127091-0</td>\n      <td>1</td>\n      <td>NaN</td>\n      <td>11.1</td>\n      <td>NaN</td>\n      <td>NaN</td>\n      <td>NaN</td>\n      <td>423.0</td>\n      <td>NaN</td>\n      <td>NaN</td>\n      <td>...</td>\n      <td>NaN</td>\n      <td>NaN</td>\n      <td>NaN</td>\n      <td>225.500000</td>\n      <td>NaN</td>\n      <td>NaN</td>\n      <td>NaN</td>\n      <td>NaN</td>\n      <td>NaN</td>\n      <td>0.0</td>\n    </tr>\n    <tr>\n      <th>4</th>\n      <td>7717785</td>\n      <td>1</td>\n      <td>NaN</td>\n      <td>11.2</td>\n      <td>1.26</td>\n      <td>NaN</td>\n      <td>NaN</td>\n      <td>238.0</td>\n      <td>NaN</td>\n      <td>NaN</td>\n      <td>...</td>\n      <td>1.415</td>\n      <td>NaN</td>\n      <td>1.52</td>\n      <td>219.400000</td>\n      <td>2.6</td>\n      <td>NaN</td>\n      <td>NaN</td>\n      <td>3.6</td>\n      <td>52.429311</td>\n      <td>0.0</td>\n    </tr>\n  </tbody>\n</table>\n<p>5 rows \u00d7 22 columns</p>\n</div>"
                    }, 
                    "execution_count": 1, 
                    "metadata": {}
                }
            ], 
            "execution_count": 1
        }, 
        {
            "source": "# Fill NaN by holding the value of the last timestamp\npatients = set(data[u'\u4f4f\u9662\u6d41\u6c34\u53f7'])\n\nnew_data = pd.DataFrame()\nfor pa in patients:\n    patient_data = data[data[u'\u4f4f\u9662\u6d41\u6c34\u53f7']==pa].sort_values(u'\u65f6\u95f4\u6233')\n    patient_data = patient_data.fillna(method='ffill')\n    new_data = new_data.append(patient_data)\n\nnew_data.head()", 
            "cell_type": "code", 
            "metadata": {}, 
            "outputs": [
                {
                    "output_type": "stream", 
                    "name": "stdout", 
                    "text": "(2984, 22)\n"
                }, 
                {
                    "output_type": "execute_result", 
                    "data": {
                        "text/plain": "                \u4f4f\u9662\u6d41\u6c34\u53f7  \u65f6\u95f4\u6233  C\u53cd\u5e94\u86cb\u767d  \u767d\u7ec6\u80de\u6570\u91cf  \u56fd\u9645\u6807\u51c6\u5316\u6bd4\u503c  \u8840\u6d46\u964d\u9499\u7d20\u539f  \u8840\u6d46\u603b\u80c6\u7ea2\u7d20    \u8840\u5c0f\u677f  \\\n2240          7796202  573  171.5   23.3      NaN     NaN     NaN  396.0   \n2834          7796202  646  171.5   23.3      NaN     NaN     NaN  396.0   \n1714          7705969   72    NaN    NaN      NaN     NaN     NaN    NaN   \n2491          7705969  117    6.1   13.0      NaN     NaN     NaN  500.0   \n1454  2017-02170984-0    3    3.3   10.3     1.12     NaN    13.9  436.0   \n\n        \u8840\u6c28  \u78b1\u6027\u78f7\u9178\u9176 ...     \u9499    \u808c\u9150  \u7ea4\u7ef4\u86cb\u767d\u539f   \u8840\u7ea2\u86cb\u767d  \u8840\u4e73\u9178   \u9541   \u78f7   \u94be  \u4e8c\u6c27\u5316\u78b3\u5206\u538b   \u8bca\u65ad  \n2240   NaN    NaN ...   NaN   NaN    NaN  199.5  NaN NaN NaN NaN     NaN  1.0  \n2834   NaN    NaN ...   NaN   NaN    NaN  199.5  NaN NaN NaN NaN     NaN  1.0  \n1714   NaN    NaN ...   NaN   NaN    NaN    NaN  NaN NaN NaN NaN     NaN  0.0  \n2491   NaN    NaN ...   NaN   NaN    NaN  223.0  NaN NaN NaN NaN     NaN  0.0  \n1454  33.1  175.0 ...   2.6  16.0   4.59  227.5  NaN NaN NaN NaN     NaN  0.0  \n\n[5 rows x 22 columns]", 
                        "text/html": "<div>\n<style scoped>\n    .dataframe tbody tr th:only-of-type {\n        vertical-align: middle;\n    }\n\n    .dataframe tbody tr th {\n        vertical-align: top;\n    }\n\n    .dataframe thead th {\n        text-align: right;\n    }\n</style>\n<table border=\"1\" class=\"dataframe\">\n  <thead>\n    <tr style=\"text-align: right;\">\n      <th></th>\n      <th>\u4f4f\u9662\u6d41\u6c34\u53f7</th>\n      <th>\u65f6\u95f4\u6233</th>\n      <th>C\u53cd\u5e94\u86cb\u767d</th>\n      <th>\u767d\u7ec6\u80de\u6570\u91cf</th>\n      <th>\u56fd\u9645\u6807\u51c6\u5316\u6bd4\u503c</th>\n      <th>\u8840\u6d46\u964d\u9499\u7d20\u539f</th>\n      <th>\u8840\u6d46\u603b\u80c6\u7ea2\u7d20</th>\n      <th>\u8840\u5c0f\u677f</th>\n      <th>\u8840\u6c28</th>\n      <th>\u78b1\u6027\u78f7\u9178\u9176</th>\n      <th>...</th>\n      <th>\u9499</th>\n      <th>\u808c\u9150</th>\n      <th>\u7ea4\u7ef4\u86cb\u767d\u539f</th>\n      <th>\u8840\u7ea2\u86cb\u767d</th>\n      <th>\u8840\u4e73\u9178</th>\n      <th>\u9541</th>\n      <th>\u78f7</th>\n      <th>\u94be</th>\n      <th>\u4e8c\u6c27\u5316\u78b3\u5206\u538b</th>\n      <th>\u8bca\u65ad</th>\n    </tr>\n  </thead>\n  <tbody>\n    <tr>\n      <th>2240</th>\n      <td>7796202</td>\n      <td>573</td>\n      <td>171.5</td>\n      <td>23.3</td>\n      <td>NaN</td>\n      <td>NaN</td>\n      <td>NaN</td>\n      <td>396.0</td>\n      <td>NaN</td>\n      <td>NaN</td>\n      <td>...</td>\n      <td>NaN</td>\n      <td>NaN</td>\n      <td>NaN</td>\n      <td>199.5</td>\n      <td>NaN</td>\n      <td>NaN</td>\n      <td>NaN</td>\n      <td>NaN</td>\n      <td>NaN</td>\n      <td>1.0</td>\n    </tr>\n    <tr>\n      <th>2834</th>\n      <td>7796202</td>\n      <td>646</td>\n      <td>171.5</td>\n      <td>23.3</td>\n      <td>NaN</td>\n      <td>NaN</td>\n      <td>NaN</td>\n      <td>396.0</td>\n      <td>NaN</td>\n      <td>NaN</td>\n      <td>...</td>\n      <td>NaN</td>\n      <td>NaN</td>\n      <td>NaN</td>\n      <td>199.5</td>\n      <td>NaN</td>\n      <td>NaN</td>\n      <td>NaN</td>\n      <td>NaN</td>\n      <td>NaN</td>\n      <td>1.0</td>\n    </tr>\n    <tr>\n      <th>1714</th>\n      <td>7705969</td>\n      <td>72</td>\n      <td>NaN</td>\n      <td>NaN</td>\n      <td>NaN</td>\n      <td>NaN</td>\n      <td>NaN</td>\n      <td>NaN</td>\n      <td>NaN</td>\n      <td>NaN</td>\n      <td>...</td>\n      <td>NaN</td>\n      <td>NaN</td>\n      <td>NaN</td>\n      <td>NaN</td>\n      <td>NaN</td>\n      <td>NaN</td>\n      <td>NaN</td>\n      <td>NaN</td>\n      <td>NaN</td>\n      <td>0.0</td>\n    </tr>\n    <tr>\n      <th>2491</th>\n      <td>7705969</td>\n      <td>117</td>\n      <td>6.1</td>\n      <td>13.0</td>\n      <td>NaN</td>\n      <td>NaN</td>\n      <td>NaN</td>\n      <td>500.0</td>\n      <td>NaN</td>\n      <td>NaN</td>\n      <td>...</td>\n      <td>NaN</td>\n      <td>NaN</td>\n      <td>NaN</td>\n      <td>223.0</td>\n      <td>NaN</td>\n      <td>NaN</td>\n      <td>NaN</td>\n      <td>NaN</td>\n      <td>NaN</td>\n      <td>0.0</td>\n    </tr>\n    <tr>\n      <th>1454</th>\n      <td>2017-02170984-0</td>\n      <td>3</td>\n      <td>3.3</td>\n      <td>10.3</td>\n      <td>1.12</td>\n      <td>NaN</td>\n      <td>13.9</td>\n      <td>436.0</td>\n      <td>33.1</td>\n      <td>175.0</td>\n      <td>...</td>\n      <td>2.6</td>\n      <td>16.0</td>\n      <td>4.59</td>\n      <td>227.5</td>\n      <td>NaN</td>\n      <td>NaN</td>\n      <td>NaN</td>\n      <td>NaN</td>\n      <td>NaN</td>\n      <td>0.0</td>\n    </tr>\n  </tbody>\n</table>\n<p>5 rows \u00d7 22 columns</p>\n</div>"
                    }, 
                    "execution_count": 19, 
                    "metadata": {}
                }
            ], 
            "execution_count": 19
        }, 
        {
            "source": "# Fill NaN by imputation\nfeature_list = data.axes[1][2:-1]\n\nfor feature in feature_list:\n    m = data[feature].mean()\n    new_data[feature] = new_data[feature].fillna(m)\n\nnew_data.head()", 
            "cell_type": "code", 
            "metadata": {}, 
            "outputs": [
                {
                    "output_type": "execute_result", 
                    "data": {
                        "text/plain": "                \u4f4f\u9662\u6d41\u6c34\u53f7  \u65f6\u95f4\u6233       C\u53cd\u5e94\u86cb\u767d      \u767d\u7ec6\u80de\u6570\u91cf   \u56fd\u9645\u6807\u51c6\u5316\u6bd4\u503c    \u8840\u6d46\u964d\u9499\u7d20\u539f  \\\n2240          7796202  573  171.500000  23.300000  1.308355  1.471463   \n2834          7796202  646  171.500000  23.300000  1.308355  1.471463   \n1714          7705969   72   35.181641  14.193637  1.308355  1.471463   \n2491          7705969  117    6.100000  13.000000  1.308355  1.471463   \n1454  2017-02170984-0    3    3.300000  10.300000  1.120000  1.471463   \n\n        \u8840\u6d46\u603b\u80c6\u7ea2\u7d20         \u8840\u5c0f\u677f         \u8840\u6c28       \u78b1\u6027\u78f7\u9178\u9176 ...          \u9499        \u808c\u9150  \\\n2240  25.86681  396.000000  52.959677  142.766513 ...   1.835068  32.93266   \n2834  25.86681  396.000000  52.959677  142.766513 ...   1.835068  32.93266   \n1714  25.86681  355.476133  52.959677  142.766513 ...   1.835068  32.93266   \n2491  25.86681  500.000000  52.959677  142.766513 ...   1.835068  32.93266   \n1454  13.90000  436.000000  33.100000  175.000000 ...   2.600000  16.00000   \n\n        \u7ea4\u7ef4\u86cb\u767d\u539f        \u8840\u7ea2\u86cb\u767d      \u8840\u4e73\u9178         \u9541         \u78f7         \u94be     \u4e8c\u6c27\u5316\u78b3\u5206\u538b  \\\n2240  3.16966  199.500000  2.64705  0.906821  1.471463  4.096933  38.551103   \n2834  3.16966  199.500000  2.64705  0.906821  1.471463  4.096933  38.551103   \n1714  3.16966  206.390913  2.64705  0.906821  1.471463  4.096933  38.551103   \n2491  3.16966  223.000000  2.64705  0.906821  1.471463  4.096933  38.551103   \n1454  4.59000  227.500000  2.64705  0.906821  1.471463  4.096933  38.551103   \n\n       \u8bca\u65ad  \n2240  1.0  \n2834  1.0  \n1714  0.0  \n2491  0.0  \n1454  0.0  \n\n[5 rows x 22 columns]", 
                        "text/html": "<div>\n<style scoped>\n    .dataframe tbody tr th:only-of-type {\n        vertical-align: middle;\n    }\n\n    .dataframe tbody tr th {\n        vertical-align: top;\n    }\n\n    .dataframe thead th {\n        text-align: right;\n    }\n</style>\n<table border=\"1\" class=\"dataframe\">\n  <thead>\n    <tr style=\"text-align: right;\">\n      <th></th>\n      <th>\u4f4f\u9662\u6d41\u6c34\u53f7</th>\n      <th>\u65f6\u95f4\u6233</th>\n      <th>C\u53cd\u5e94\u86cb\u767d</th>\n      <th>\u767d\u7ec6\u80de\u6570\u91cf</th>\n      <th>\u56fd\u9645\u6807\u51c6\u5316\u6bd4\u503c</th>\n      <th>\u8840\u6d46\u964d\u9499\u7d20\u539f</th>\n      <th>\u8840\u6d46\u603b\u80c6\u7ea2\u7d20</th>\n      <th>\u8840\u5c0f\u677f</th>\n      <th>\u8840\u6c28</th>\n      <th>\u78b1\u6027\u78f7\u9178\u9176</th>\n      <th>...</th>\n      <th>\u9499</th>\n      <th>\u808c\u9150</th>\n      <th>\u7ea4\u7ef4\u86cb\u767d\u539f</th>\n      <th>\u8840\u7ea2\u86cb\u767d</th>\n      <th>\u8840\u4e73\u9178</th>\n      <th>\u9541</th>\n      <th>\u78f7</th>\n      <th>\u94be</th>\n      <th>\u4e8c\u6c27\u5316\u78b3\u5206\u538b</th>\n      <th>\u8bca\u65ad</th>\n    </tr>\n  </thead>\n  <tbody>\n    <tr>\n      <th>2240</th>\n      <td>7796202</td>\n      <td>573</td>\n      <td>171.500000</td>\n      <td>23.300000</td>\n      <td>1.308355</td>\n      <td>1.471463</td>\n      <td>25.86681</td>\n      <td>396.000000</td>\n      <td>52.959677</td>\n      <td>142.766513</td>\n      <td>...</td>\n      <td>1.835068</td>\n      <td>32.93266</td>\n      <td>3.16966</td>\n      <td>199.500000</td>\n      <td>2.64705</td>\n      <td>0.906821</td>\n      <td>1.471463</td>\n      <td>4.096933</td>\n      <td>38.551103</td>\n      <td>1.0</td>\n    </tr>\n    <tr>\n      <th>2834</th>\n      <td>7796202</td>\n      <td>646</td>\n      <td>171.500000</td>\n      <td>23.300000</td>\n      <td>1.308355</td>\n      <td>1.471463</td>\n      <td>25.86681</td>\n      <td>396.000000</td>\n      <td>52.959677</td>\n      <td>142.766513</td>\n      <td>...</td>\n      <td>1.835068</td>\n      <td>32.93266</td>\n      <td>3.16966</td>\n      <td>199.500000</td>\n      <td>2.64705</td>\n      <td>0.906821</td>\n      <td>1.471463</td>\n      <td>4.096933</td>\n      <td>38.551103</td>\n      <td>1.0</td>\n    </tr>\n    <tr>\n      <th>1714</th>\n      <td>7705969</td>\n      <td>72</td>\n      <td>35.181641</td>\n      <td>14.193637</td>\n      <td>1.308355</td>\n      <td>1.471463</td>\n      <td>25.86681</td>\n      <td>355.476133</td>\n      <td>52.959677</td>\n      <td>142.766513</td>\n      <td>...</td>\n      <td>1.835068</td>\n      <td>32.93266</td>\n      <td>3.16966</td>\n      <td>206.390913</td>\n      <td>2.64705</td>\n      <td>0.906821</td>\n      <td>1.471463</td>\n      <td>4.096933</td>\n      <td>38.551103</td>\n      <td>0.0</td>\n    </tr>\n    <tr>\n      <th>2491</th>\n      <td>7705969</td>\n      <td>117</td>\n      <td>6.100000</td>\n      <td>13.000000</td>\n      <td>1.308355</td>\n      <td>1.471463</td>\n      <td>25.86681</td>\n      <td>500.000000</td>\n      <td>52.959677</td>\n      <td>142.766513</td>\n      <td>...</td>\n      <td>1.835068</td>\n      <td>32.93266</td>\n      <td>3.16966</td>\n      <td>223.000000</td>\n      <td>2.64705</td>\n      <td>0.906821</td>\n      <td>1.471463</td>\n      <td>4.096933</td>\n      <td>38.551103</td>\n      <td>0.0</td>\n    </tr>\n    <tr>\n      <th>1454</th>\n      <td>2017-02170984-0</td>\n      <td>3</td>\n      <td>3.300000</td>\n      <td>10.300000</td>\n      <td>1.120000</td>\n      <td>1.471463</td>\n      <td>13.90000</td>\n      <td>436.000000</td>\n      <td>33.100000</td>\n      <td>175.000000</td>\n      <td>...</td>\n      <td>2.600000</td>\n      <td>16.00000</td>\n      <td>4.59000</td>\n      <td>227.500000</td>\n      <td>2.64705</td>\n      <td>0.906821</td>\n      <td>1.471463</td>\n      <td>4.096933</td>\n      <td>38.551103</td>\n      <td>0.0</td>\n    </tr>\n  </tbody>\n</table>\n<p>5 rows \u00d7 22 columns</p>\n</div>"
                    }, 
                    "execution_count": 23, 
                    "metadata": {}
                }
            ], 
            "execution_count": 23
        }, 
        {
            "source": "# Save data to the storage\nfrom project_lib import Project\nproject = Project(project_id=\"54710414-eeb2-42df-820a-698b93f50f84\", project_access_token=\"p-594d39b7f91d72f663da93ed52c36b329ac8c2c7\")\nproject.save_data('data_without_missing_value.csv', new_data.to_csv(header=True, index=False))", 
            "cell_type": "code", 
            "metadata": {}, 
            "outputs": [
                {
                    "output_type": "execute_result", 
                    "data": {
                        "text/plain": "{'asset_id': 'a62ff9af-ac8e-4a56-99da-cfddbb4a1f16',\n 'bucket_name': 'sepsisprediction-donotdelete-pr-wodmbegr9uodno',\n 'file_name': 'data_without_missing_value.csv',\n 'message': 'File data_without_missing_value.csv has been written successfully to the associated OS'}"
                    }, 
                    "execution_count": 25, 
                    "metadata": {}
                }
            ], 
            "execution_count": 25
        }, 
        {
            "source": "", 
            "cell_type": "code", 
            "metadata": {}, 
            "outputs": [], 
            "execution_count": null
        }
    ], 
    "metadata": {
        "kernelspec": {
            "display_name": "Python 3.5", 
            "name": "python3", 
            "language": "python"
        }, 
        "language_info": {
            "mimetype": "text/x-python", 
            "nbconvert_exporter": "python", 
            "version": "3.5.4", 
            "name": "python", 
            "file_extension": ".py", 
            "pygments_lexer": "ipython3", 
            "codemirror_mode": {
                "version": 3, 
                "name": "ipython"
            }
        }
    }, 
    "nbformat": 4
}