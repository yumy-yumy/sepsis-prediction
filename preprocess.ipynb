{
    "nbformat_minor": 1, 
    "cells": [
        {
            "source": "\nimport sys\nimport types\nimport pandas as pd\nfrom botocore.client import Config\nimport ibm_boto3\n\ndef __iter__(self): return 0\n\n# @hidden_cell\n# The following code accesses a file in your IBM Cloud Object Storage. It includes your credentials.\n# You might want to remove those credentials before you share your notebook.\nclient_d110e2fe011d44d489dffcc5194a59c5 = ibm_boto3.client(service_name='s3',\n    ibm_api_key_id='eb_teHef1zl2WqhjGL8xoD85lSXUh6_9VurXa8loCIlM',\n    ibm_auth_endpoint=\"https://iam.ng.bluemix.net/oidc/token\",\n    config=Config(signature_version='oauth'),\n    endpoint_url='https://s3-api.us-geo.objectstorage.service.networklayer.com')\n\nbody = client_d110e2fe011d44d489dffcc5194a59c5.get_object(Bucket='sepsisprediction-donotdelete-pr-wodmbegr9uodno',Key='data.csv')['Body']\n# add missing __iter__ method, so pandas accepts body as file-like object\nif not hasattr(body, \"__iter__\"): body.__iter__ = types.MethodType( __iter__, body )\n\nraw_data = pd.read_csv(body)\nraw_data.head()\n", 
            "cell_type": "code", 
            "metadata": {
                "scrolled": true
            }, 
            "outputs": [
                {
                    "output_type": "execute_result", 
                    "data": {
                        "text/plain": "            \u4f4f\u9662\u6d41\u6c34\u53f7  \u65f6\u95f4\u6233 C\u53cd\u5e94\u86cb\u767d  \u767d\u7ec6\u80de\u6570\u91cf  \u56fd\u9645\u6807\u51c6\u5316\u6bd4\u503c  \u8840\u6d46\u964d\u9499\u7d20\u539f  \u8840\u6d46\u603b\u80c6\u7ea2\u7d20    \u8840\u5c0f\u677f    \u8840\u6c28  \\\n0  2016-0682617-0    3   NaN    2.7      NaN     NaN     NaN  542.0  33.0   \n1  2016-0682617-0    3   NaN    2.7      NaN     NaN     NaN  542.0  33.0   \n2  2016-0682617-0    4   NaN    NaN     1.45     NaN     3.8    NaN   NaN   \n3  2016-0682617-0    4   NaN    NaN     1.45     NaN     3.8    NaN   NaN   \n4  2016-0682617-0    4   NaN    NaN     1.45     NaN     3.8    NaN   NaN   \n\n   \u78b1\u6027\u78f7\u9178\u9176 ...     \u9499    \u808c\u9150  \u7ea4\u7ef4\u86cb\u767d\u539f   \u8840\u7ea2\u86cb\u767d  \u8840\u4e73\u9178     \u9541   \u78f7    \u94be     \u4e8c\u6c27\u5316\u78b3\u5206\u538b  \u8bca\u65ad  \n0    NaN ...   NaN   NaN    NaN  329.0  NaN   NaN NaN  NaN        NaN   1  \n1    NaN ...   NaN   NaN    NaN   80.0  NaN   NaN NaN  NaN        NaN   1  \n2   48.0 ...  1.62  39.0   4.23   71.0  1.3  0.75 NaN  3.7  54.004441   1  \n3   48.0 ...  1.62  39.0   4.23   71.0  1.3  0.75 NaN  3.7  42.753516   1  \n4   48.0 ...  1.62  39.0   4.23   71.0  1.3  0.75 NaN  3.0  54.004441   1  \n\n[5 rows x 22 columns]", 
                        "text/html": "<div>\n<style scoped>\n    .dataframe tbody tr th:only-of-type {\n        vertical-align: middle;\n    }\n\n    .dataframe tbody tr th {\n        vertical-align: top;\n    }\n\n    .dataframe thead th {\n        text-align: right;\n    }\n</style>\n<table border=\"1\" class=\"dataframe\">\n  <thead>\n    <tr style=\"text-align: right;\">\n      <th></th>\n      <th>\u4f4f\u9662\u6d41\u6c34\u53f7</th>\n      <th>\u65f6\u95f4\u6233</th>\n      <th>C\u53cd\u5e94\u86cb\u767d</th>\n      <th>\u767d\u7ec6\u80de\u6570\u91cf</th>\n      <th>\u56fd\u9645\u6807\u51c6\u5316\u6bd4\u503c</th>\n      <th>\u8840\u6d46\u964d\u9499\u7d20\u539f</th>\n      <th>\u8840\u6d46\u603b\u80c6\u7ea2\u7d20</th>\n      <th>\u8840\u5c0f\u677f</th>\n      <th>\u8840\u6c28</th>\n      <th>\u78b1\u6027\u78f7\u9178\u9176</th>\n      <th>...</th>\n      <th>\u9499</th>\n      <th>\u808c\u9150</th>\n      <th>\u7ea4\u7ef4\u86cb\u767d\u539f</th>\n      <th>\u8840\u7ea2\u86cb\u767d</th>\n      <th>\u8840\u4e73\u9178</th>\n      <th>\u9541</th>\n      <th>\u78f7</th>\n      <th>\u94be</th>\n      <th>\u4e8c\u6c27\u5316\u78b3\u5206\u538b</th>\n      <th>\u8bca\u65ad</th>\n    </tr>\n  </thead>\n  <tbody>\n    <tr>\n      <th>0</th>\n      <td>2016-0682617-0</td>\n      <td>3</td>\n      <td>NaN</td>\n      <td>2.7</td>\n      <td>NaN</td>\n      <td>NaN</td>\n      <td>NaN</td>\n      <td>542.0</td>\n      <td>33.0</td>\n      <td>NaN</td>\n      <td>...</td>\n      <td>NaN</td>\n      <td>NaN</td>\n      <td>NaN</td>\n      <td>329.0</td>\n      <td>NaN</td>\n      <td>NaN</td>\n      <td>NaN</td>\n      <td>NaN</td>\n      <td>NaN</td>\n      <td>1</td>\n    </tr>\n    <tr>\n      <th>1</th>\n      <td>2016-0682617-0</td>\n      <td>3</td>\n      <td>NaN</td>\n      <td>2.7</td>\n      <td>NaN</td>\n      <td>NaN</td>\n      <td>NaN</td>\n      <td>542.0</td>\n      <td>33.0</td>\n      <td>NaN</td>\n      <td>...</td>\n      <td>NaN</td>\n      <td>NaN</td>\n      <td>NaN</td>\n      <td>80.0</td>\n      <td>NaN</td>\n      <td>NaN</td>\n      <td>NaN</td>\n      <td>NaN</td>\n      <td>NaN</td>\n      <td>1</td>\n    </tr>\n    <tr>\n      <th>2</th>\n      <td>2016-0682617-0</td>\n      <td>4</td>\n      <td>NaN</td>\n      <td>NaN</td>\n      <td>1.45</td>\n      <td>NaN</td>\n      <td>3.8</td>\n      <td>NaN</td>\n      <td>NaN</td>\n      <td>48.0</td>\n      <td>...</td>\n      <td>1.62</td>\n      <td>39.0</td>\n      <td>4.23</td>\n      <td>71.0</td>\n      <td>1.3</td>\n      <td>0.75</td>\n      <td>NaN</td>\n      <td>3.7</td>\n      <td>54.004441</td>\n      <td>1</td>\n    </tr>\n    <tr>\n      <th>3</th>\n      <td>2016-0682617-0</td>\n      <td>4</td>\n      <td>NaN</td>\n      <td>NaN</td>\n      <td>1.45</td>\n      <td>NaN</td>\n      <td>3.8</td>\n      <td>NaN</td>\n      <td>NaN</td>\n      <td>48.0</td>\n      <td>...</td>\n      <td>1.62</td>\n      <td>39.0</td>\n      <td>4.23</td>\n      <td>71.0</td>\n      <td>1.3</td>\n      <td>0.75</td>\n      <td>NaN</td>\n      <td>3.7</td>\n      <td>42.753516</td>\n      <td>1</td>\n    </tr>\n    <tr>\n      <th>4</th>\n      <td>2016-0682617-0</td>\n      <td>4</td>\n      <td>NaN</td>\n      <td>NaN</td>\n      <td>1.45</td>\n      <td>NaN</td>\n      <td>3.8</td>\n      <td>NaN</td>\n      <td>NaN</td>\n      <td>48.0</td>\n      <td>...</td>\n      <td>1.62</td>\n      <td>39.0</td>\n      <td>4.23</td>\n      <td>71.0</td>\n      <td>1.3</td>\n      <td>0.75</td>\n      <td>NaN</td>\n      <td>3.0</td>\n      <td>54.004441</td>\n      <td>1</td>\n    </tr>\n  </tbody>\n</table>\n<p>5 rows \u00d7 22 columns</p>\n</div>"
                    }, 
                    "execution_count": 2, 
                    "metadata": {}
                }
            ], 
            "execution_count": 2
        }, 
        {
            "source": "\nbody = client_d110e2fe011d44d489dffcc5194a59c5.get_object(Bucket='sepsisprediction-donotdelete-pr-wodmbegr9uodno',Key='timestamp.csv')['Body']\n# add missing __iter__ method, so pandas accepts body as file-like object\nif not hasattr(body, \"__iter__\"): body.__iter__ = types.MethodType( __iter__, body )\n\ntime_stamp = pd.read_csv(body)\ntime_stamp.head()\n", 
            "cell_type": "code", 
            "metadata": {}, 
            "outputs": [
                {
                    "output_type": "execute_result", 
                    "data": {
                        "text/plain": "             \u4f4f\u9662\u6d41\u6c34\u53f7  \u65f6\u95f4\u6233\n0   2016-0798830-0    1\n1  2016-08107700-0    1\n2  2016-08109775-0    1\n3  2016-10127091-0    1\n4          7717785    1", 
                        "text/html": "<div>\n<style scoped>\n    .dataframe tbody tr th:only-of-type {\n        vertical-align: middle;\n    }\n\n    .dataframe tbody tr th {\n        vertical-align: top;\n    }\n\n    .dataframe thead th {\n        text-align: right;\n    }\n</style>\n<table border=\"1\" class=\"dataframe\">\n  <thead>\n    <tr style=\"text-align: right;\">\n      <th></th>\n      <th>\u4f4f\u9662\u6d41\u6c34\u53f7</th>\n      <th>\u65f6\u95f4\u6233</th>\n    </tr>\n  </thead>\n  <tbody>\n    <tr>\n      <th>0</th>\n      <td>2016-0798830-0</td>\n      <td>1</td>\n    </tr>\n    <tr>\n      <th>1</th>\n      <td>2016-08107700-0</td>\n      <td>1</td>\n    </tr>\n    <tr>\n      <th>2</th>\n      <td>2016-08109775-0</td>\n      <td>1</td>\n    </tr>\n    <tr>\n      <th>3</th>\n      <td>2016-10127091-0</td>\n      <td>1</td>\n    </tr>\n    <tr>\n      <th>4</th>\n      <td>7717785</td>\n      <td>1</td>\n    </tr>\n  </tbody>\n</table>\n</div>"
                    }, 
                    "execution_count": 3, 
                    "metadata": {}
                }
            ], 
            "execution_count": 3
        }, 
        {
            "source": "# Manipulate inputs with incorrect datatype eg. string to numeric\nraw_data[u'C\u53cd\u5e94\u86cb\u767d'] == '<0.5'\nraw_data[raw_data[u'C\u53cd\u5e94\u86cb\u767d'] == '<0.50'] = 0.5\nraw_data[raw_data[u'C\u53cd\u5e94\u86cb\u767d'] == '<0.5'] = 0.5\nraw_data[raw_data[u'C\u53cd\u5e94\u86cb\u767d'] == '>200.0'] = 200\n\nraw_data[raw_data[u'\u5929\u95e8\u51ac\u6c28\u9178\u6c28\u57fa\u8f6c\u6c28\u9176'] == '140 A'] = 140\n\nraw_data[raw_data[u'\u7ea4\u7ef4\u86cb\u767d\u539f'] == '<0.60'] = 0.6", 
            "cell_type": "code", 
            "metadata": {}, 
            "outputs": [], 
            "execution_count": 4
        }, 
        {
            "source": "# Checking inputs datatype\nimport sys\nfeature_name = raw_data.axes[1]\nnorm_data = pd.DataFrame()\nfor feature in feature_name:\n    if feature not in [u'\u4f4f\u9662\u6d41\u6c34\u53f7', u'\u65f6\u95f4\u6233']:\n        print(feature)\n        try:\n            raw_data[feature].astype('float64')\n            print(\"datatype transform successfully\")\n        except ValueError:\n            print(sys.exc_info())\n", 
            "cell_type": "code", 
            "metadata": {}, 
            "outputs": [
                {
                    "output_type": "stream", 
                    "name": "stdout", 
                    "text": "C\u53cd\u5e94\u86cb\u767d\ndatatype transform successfully\n\u767d\u7ec6\u80de\u6570\u91cf\ndatatype transform successfully\n\u56fd\u9645\u6807\u51c6\u5316\u6bd4\u503c\ndatatype transform successfully\n\u8840\u6d46\u964d\u9499\u7d20\u539f\ndatatype transform successfully\n\u8840\u6d46\u603b\u80c6\u7ea2\u7d20\ndatatype transform successfully\n\u8840\u5c0f\u677f\ndatatype transform successfully\n\u8840\u6c28\ndatatype transform successfully\n\u78b1\u6027\u78f7\u9178\u9176\ndatatype transform successfully\n\u5929\u95e8\u51ac\u6c28\u9178\u6c28\u57fa\u8f6c\u6c28\u9176\ndatatype transform successfully\n\u76f4\u63a5\u80c6\u7ea2\u7d20\ndatatype transform successfully\n\u9499\ndatatype transform successfully\n\u808c\u9150\ndatatype transform successfully\n\u7ea4\u7ef4\u86cb\u767d\u539f\ndatatype transform successfully\n\u8840\u7ea2\u86cb\u767d\ndatatype transform successfully\n\u8840\u4e73\u9178\ndatatype transform successfully\n\u9541\ndatatype transform successfully\n\u78f7\ndatatype transform successfully\n\u94be\ndatatype transform successfully\n\u4e8c\u6c27\u5316\u78b3\u5206\u538b\ndatatype transform successfully\n\u8bca\u65ad\ndatatype transform successfully\n"
                }
            ], 
            "execution_count": 16
        }, 
        {
            "source": "# Remove duplicate timestamp\nn_row = time_stamp.shape[0]\nnew_data = []\nfeature_name = raw_data.axes[1]\nfor i in range(n_row):\n    line = time_stamp.iloc[i]\n    patient_no, timestamp = line[u'\u4f4f\u9662\u6d41\u6c34\u53f7'], line[u'\u65f6\u95f4\u6233']\n    lines = raw_data[raw_data[u'\u4f4f\u9662\u6d41\u6c34\u53f7'] == patient_no]\n    lines = lines[lines[u'\u65f6\u95f4\u6233'] == timestamp]\n    data = [patient_no, timestamp]\n    for feature in feature_name:\n        if feature not in [u'\u4f4f\u9662\u6d41\u6c34\u53f7', u'\u65f6\u95f4\u6233']:\n            values = lines[feature]\n            values = values.astype('float64')\n            data.append(values.mean())\n    new_data.append(data)\nnew_data = pd.DataFrame(new_data, columns = feature_name)\nnew_data.head()", 
            "cell_type": "code", 
            "metadata": {}, 
            "outputs": [
                {
                    "output_type": "execute_result", 
                    "data": {
                        "text/plain": "             \u4f4f\u9662\u6d41\u6c34\u53f7  \u65f6\u95f4\u6233  C\u53cd\u5e94\u86cb\u767d  \u767d\u7ec6\u80de\u6570\u91cf  \u56fd\u9645\u6807\u51c6\u5316\u6bd4\u503c  \u8840\u6d46\u964d\u9499\u7d20\u539f  \u8840\u6d46\u603b\u80c6\u7ea2\u7d20    \u8840\u5c0f\u677f  \u8840\u6c28  \\\n0   2016-0798830-0    1    NaN   22.5      NaN     NaN     NaN  464.0 NaN   \n1  2016-08107700-0    1  14.00   18.6      NaN     NaN     NaN  636.0 NaN   \n2  2016-08109775-0    1   0.55   10.1      NaN     NaN     NaN  334.0 NaN   \n3  2016-10127091-0    1    NaN   11.1      NaN     NaN     NaN  423.0 NaN   \n4          7717785    1    NaN   11.2     1.26     NaN     NaN  238.0 NaN   \n\n   \u78b1\u6027\u78f7\u9178\u9176 ...       \u9499  \u808c\u9150  \u7ea4\u7ef4\u86cb\u767d\u539f        \u8840\u7ea2\u86cb\u767d  \u8840\u4e73\u9178   \u9541   \u78f7    \u94be     \u4e8c\u6c27\u5316\u78b3\u5206\u538b   \u8bca\u65ad  \n0    NaN ...   1.050 NaN    NaN  167.000000  0.8 NaN NaN  3.1  42.003454  0.0  \n1    NaN ...     NaN NaN    NaN  198.500000  NaN NaN NaN  NaN        NaN  0.0  \n2    NaN ...   1.100 NaN    NaN  187.333333  3.9 NaN NaN  4.4  47.000000  0.0  \n3    NaN ...     NaN NaN    NaN  225.500000  NaN NaN NaN  NaN        NaN  0.0  \n4    NaN ...   1.415 NaN   1.52  219.400000  2.6 NaN NaN  3.6  52.429311  0.0  \n\n[5 rows x 22 columns]", 
                        "text/html": "<div>\n<style scoped>\n    .dataframe tbody tr th:only-of-type {\n        vertical-align: middle;\n    }\n\n    .dataframe tbody tr th {\n        vertical-align: top;\n    }\n\n    .dataframe thead th {\n        text-align: right;\n    }\n</style>\n<table border=\"1\" class=\"dataframe\">\n  <thead>\n    <tr style=\"text-align: right;\">\n      <th></th>\n      <th>\u4f4f\u9662\u6d41\u6c34\u53f7</th>\n      <th>\u65f6\u95f4\u6233</th>\n      <th>C\u53cd\u5e94\u86cb\u767d</th>\n      <th>\u767d\u7ec6\u80de\u6570\u91cf</th>\n      <th>\u56fd\u9645\u6807\u51c6\u5316\u6bd4\u503c</th>\n      <th>\u8840\u6d46\u964d\u9499\u7d20\u539f</th>\n      <th>\u8840\u6d46\u603b\u80c6\u7ea2\u7d20</th>\n      <th>\u8840\u5c0f\u677f</th>\n      <th>\u8840\u6c28</th>\n      <th>\u78b1\u6027\u78f7\u9178\u9176</th>\n      <th>...</th>\n      <th>\u9499</th>\n      <th>\u808c\u9150</th>\n      <th>\u7ea4\u7ef4\u86cb\u767d\u539f</th>\n      <th>\u8840\u7ea2\u86cb\u767d</th>\n      <th>\u8840\u4e73\u9178</th>\n      <th>\u9541</th>\n      <th>\u78f7</th>\n      <th>\u94be</th>\n      <th>\u4e8c\u6c27\u5316\u78b3\u5206\u538b</th>\n      <th>\u8bca\u65ad</th>\n    </tr>\n  </thead>\n  <tbody>\n    <tr>\n      <th>0</th>\n      <td>2016-0798830-0</td>\n      <td>1</td>\n      <td>NaN</td>\n      <td>22.5</td>\n      <td>NaN</td>\n      <td>NaN</td>\n      <td>NaN</td>\n      <td>464.0</td>\n      <td>NaN</td>\n      <td>NaN</td>\n      <td>...</td>\n      <td>1.050</td>\n      <td>NaN</td>\n      <td>NaN</td>\n      <td>167.000000</td>\n      <td>0.8</td>\n      <td>NaN</td>\n      <td>NaN</td>\n      <td>3.1</td>\n      <td>42.003454</td>\n      <td>0.0</td>\n    </tr>\n    <tr>\n      <th>1</th>\n      <td>2016-08107700-0</td>\n      <td>1</td>\n      <td>14.00</td>\n      <td>18.6</td>\n      <td>NaN</td>\n      <td>NaN</td>\n      <td>NaN</td>\n      <td>636.0</td>\n      <td>NaN</td>\n      <td>NaN</td>\n      <td>...</td>\n      <td>NaN</td>\n      <td>NaN</td>\n      <td>NaN</td>\n      <td>198.500000</td>\n      <td>NaN</td>\n      <td>NaN</td>\n      <td>NaN</td>\n      <td>NaN</td>\n      <td>NaN</td>\n      <td>0.0</td>\n    </tr>\n    <tr>\n      <th>2</th>\n      <td>2016-08109775-0</td>\n      <td>1</td>\n      <td>0.55</td>\n      <td>10.1</td>\n      <td>NaN</td>\n      <td>NaN</td>\n      <td>NaN</td>\n      <td>334.0</td>\n      <td>NaN</td>\n      <td>NaN</td>\n      <td>...</td>\n      <td>1.100</td>\n      <td>NaN</td>\n      <td>NaN</td>\n      <td>187.333333</td>\n      <td>3.9</td>\n      <td>NaN</td>\n      <td>NaN</td>\n      <td>4.4</td>\n      <td>47.000000</td>\n      <td>0.0</td>\n    </tr>\n    <tr>\n      <th>3</th>\n      <td>2016-10127091-0</td>\n      <td>1</td>\n      <td>NaN</td>\n      <td>11.1</td>\n      <td>NaN</td>\n      <td>NaN</td>\n      <td>NaN</td>\n      <td>423.0</td>\n      <td>NaN</td>\n      <td>NaN</td>\n      <td>...</td>\n      <td>NaN</td>\n      <td>NaN</td>\n      <td>NaN</td>\n      <td>225.500000</td>\n      <td>NaN</td>\n      <td>NaN</td>\n      <td>NaN</td>\n      <td>NaN</td>\n      <td>NaN</td>\n      <td>0.0</td>\n    </tr>\n    <tr>\n      <th>4</th>\n      <td>7717785</td>\n      <td>1</td>\n      <td>NaN</td>\n      <td>11.2</td>\n      <td>1.26</td>\n      <td>NaN</td>\n      <td>NaN</td>\n      <td>238.0</td>\n      <td>NaN</td>\n      <td>NaN</td>\n      <td>...</td>\n      <td>1.415</td>\n      <td>NaN</td>\n      <td>1.52</td>\n      <td>219.400000</td>\n      <td>2.6</td>\n      <td>NaN</td>\n      <td>NaN</td>\n      <td>3.6</td>\n      <td>52.429311</td>\n      <td>0.0</td>\n    </tr>\n  </tbody>\n</table>\n<p>5 rows \u00d7 22 columns</p>\n</div>"
                    }, 
                    "execution_count": 6, 
                    "metadata": {}
                }
            ], 
            "execution_count": 6
        }, 
        {
            "source": "# Save new_data to the storage\nfrom project_lib import Project\nproject = Project(project_id=\"54710414-eeb2-42df-820a-698b93f50f84\", project_access_token=\"p-594d39b7f91d72f663da93ed52c36b329ac8c2c7\")\nproject.save_data('data_with_1_hour_bin.csv', new_data.to_csv(header=True, index=False), overwrite=True)", 
            "cell_type": "code", 
            "metadata": {}, 
            "outputs": [
                {
                    "output_type": "execute_result", 
                    "data": {
                        "text/plain": "{'asset_id': '33933f95-dd11-4b6e-b909-b51760ba6a0b',\n 'bucket_name': 'sepsisprediction-donotdelete-pr-wodmbegr9uodno',\n 'file_name': 'data_with_1_hour_bin.csv',\n 'message': 'File data_with_1_hour_bin.csv has been written successfully to the associated OS'}"
                    }, 
                    "execution_count": 20, 
                    "metadata": {}
                }
            ], 
            "execution_count": 20
        }, 
        {
            "source": "", 
            "cell_type": "code", 
            "metadata": {}, 
            "outputs": [], 
            "execution_count": null
        }
    ], 
    "metadata": {
        "kernelspec": {
            "display_name": "Python 3.5", 
            "name": "python3", 
            "language": "python"
        }, 
        "language_info": {
            "mimetype": "text/x-python", 
            "nbconvert_exporter": "python", 
            "version": "3.5.4", 
            "name": "python", 
            "pygments_lexer": "ipython3", 
            "file_extension": ".py", 
            "codemirror_mode": {
                "version": 3, 
                "name": "ipython"
            }
        }
    }, 
    "nbformat": 4
}